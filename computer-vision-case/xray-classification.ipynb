{
 "cells": [
  {
   "cell_type": "markdown",
   "id": "240d13c9",
   "metadata": {},
   "source": [
    "# X-Ray Binary Classification\n",
    "\n",
    "This project is used for generating x-ray binary classifications. \n",
    "The dataset is coming from X-Ray Chest Images by Tolga\n",
    "More detail about dataset: https://www.kaggle.com/datasets/tolgadincer/labeled-chest-xray-images\n",
    "\n",
    "The objective about this project is building based model from CNN about image classifications that classifying an image has pneumonia or not.\n",
    "\n",
    "Talking about pneumonia, you can read more detail about this on this article:\n",
    "\n",
    "https://www.mayoclinic.org/diseases-conditions/pneumonia/symptoms-causes/syc-20354204 \n",
    "\n",
    "\n",
    "FYI:\n",
    "\n",
    "After train this dataset, the model has an overfitting problem.\n"
   ]
  },
  {
   "cell_type": "code",
   "execution_count": 3,
   "id": "fd7b5420",
   "metadata": {},
   "outputs": [],
   "source": [
    "import pandas as pd\n",
    "import numpy as np\n",
    "import matplotlib.pyplot as plt\n",
    "import tensorflow as tf\n",
    "import requests\n",
    "import os\n",
    "import zipfile\n",
    "import shutil\n",
    "\n",
    "from tensorflow.keras.preprocessing.image import ImageDataGenerator, load_img, img_to_array, array_to_img\n",
    "from tensorflow.keras import models, layers"
   ]
  },
  {
   "cell_type": "markdown",
   "id": "004e91de",
   "metadata": {},
   "source": [
    "# Importing Dataset"
   ]
  },
  {
   "cell_type": "markdown",
   "id": "338ced98",
   "metadata": {},
   "source": [
    "Download and unzip the datasets"
   ]
  },
  {
   "cell_type": "code",
   "execution_count": 4,
   "id": "f2c3e82b",
   "metadata": {},
   "outputs": [],
   "source": [
    "# Alternatif Download from Github -> WIP\n",
    "# data = requests.get(\"\")"
   ]
  },
  {
   "cell_type": "markdown",
   "id": "6cc99264",
   "metadata": {},
   "source": [
    "Extract data into data path"
   ]
  },
  {
   "cell_type": "code",
   "execution_count": 5,
   "id": "331eaea3",
   "metadata": {},
   "outputs": [
    {
     "name": "stdout",
     "output_type": "stream",
     "text": [
      "Data was extracted into data/ path\n"
     ]
    }
   ],
   "source": [
    "extracted_data_path = 'data/'\n",
    "zip_path = 'data/archive.zip'\n",
    "\n",
    "with zipfile.ZipFile(zip_path, 'r') as zipfile:\n",
    "    zipfile.extractall(extracted_data_path)\n",
    "\n",
    "print(f\"Data was extracted into {extracted_data_path} path\") "
   ]
  },
  {
   "cell_type": "markdown",
   "id": "1d6d33d0",
   "metadata": {},
   "source": [
    "Finding the directory informations"
   ]
  },
  {
   "cell_type": "code",
   "execution_count": 6,
   "id": "3ed8dc26",
   "metadata": {},
   "outputs": [
    {
     "name": "stdout",
     "output_type": "stream",
     "text": [
      "Folder: chest_xray, Banyaknya berkas: 0\n",
      "Folder: test, Banyaknya berkas: 0\n",
      "Folder: PNEUMONIA, Banyaknya berkas: 390\n",
      "Folder: NORMAL, Banyaknya berkas: 234\n",
      "Folder: train, Banyaknya berkas: 0\n",
      "Folder: PNEUMONIA, Banyaknya berkas: 3883\n",
      "Folder: NORMAL, Banyaknya berkas: 3704\n"
     ]
    }
   ],
   "source": [
    "dataset_path = 'data/chest_xray'\n",
    "\n",
    "for dirpath, _, filenames in os.walk(dataset_path):\n",
    "    folder_name = os.path.basename(dirpath)\n",
    "    file_count = len([f for f in filenames if not f.startswith(\".\")]) \n",
    "    print(f\"Folder: {folder_name}, Banyaknya berkas: {file_count}\")"
   ]
  },
  {
   "cell_type": "markdown",
   "id": "e42e74af",
   "metadata": {},
   "source": [
    "## Problem - Imbalenced datasets"
   ]
  },
  {
   "cell_type": "markdown",
   "id": "5c05d5c5",
   "metadata": {},
   "source": [
    "In the directory informations, we found that data training with NORMAL labels has smaller than pneumonia. \n",
    "This means, the training has imbalanced datasets. \n",
    "\n",
    "This problems need to be solved because we are facing the health issues. \n",
    "The models need to classify the minority class, which means the models need to good for classifying the NORMAL cases.\n",
    "\n",
    "**The impact is big if it's wrong**"
   ]
  },
  {
   "cell_type": "markdown",
   "id": "3134cb45",
   "metadata": {},
   "source": [
    "We are going to implement simple data augmentations with focusing on data rotations around 10 degrees."
   ]
  },
  {
   "cell_type": "markdown",
   "id": "f73b7afd",
   "metadata": {},
   "source": [
    "### Minority IDG"
   ]
  },
  {
   "cell_type": "code",
   "execution_count": 7,
   "id": "bffeed84",
   "metadata": {},
   "outputs": [],
   "source": [
    "# Seperate the data based on labels -> only choose Normal (this is the minority)\n",
    "minority_aug = ImageDataGenerator(\n",
    "    rescale=1./255,\n",
    "    rotation_range=10,\n",
    "    width_shift_range=0.1,\n",
    "    height_shift_range=0.1,\n",
    "    zoom_range=0.1,\n",
    "    brightness_range=[0.8, 1.2]\n",
    ")"
   ]
  },
  {
   "cell_type": "code",
   "execution_count": 8,
   "id": "1c1ca324",
   "metadata": {},
   "outputs": [],
   "source": [
    "normal_dir = './data/chest_xray/train/NORMAL'\n",
    "aug_dir = './data/chest_xray/train/NORMAL_augmented'\n",
    "os.makedirs(aug_dir,exist_ok=True)"
   ]
  },
  {
   "cell_type": "code",
   "execution_count": 9,
   "id": "ed7a5c1c",
   "metadata": {},
   "outputs": [],
   "source": [
    "images = os.listdir(normal_dir)\n",
    "target_total = len(images) * 2 #Stopper bcs the objective is multiply the dataset.\n",
    "generated = 0\n",
    "\n",
    "for img_name in images:\n",
    "    img_path = os.path.join(normal_dir, img_name)\n",
    "    img = load_img(img_path, target_size=[150,150])\n",
    "    img_array = img_to_array(img)\n",
    "    img_array = img_array.reshape((1,) + img_array.shape) # dibutuhkan karena kebutuhan .flow nanti formatnya (1,150,150,3)\n",
    "    \n",
    "    for batch in minority_aug.flow(img_array, batch_size=1, save_to_dir=aug_dir, save_prefix='aug', save_format='jpeg'):\n",
    "        generated += 1\n",
    "        if generated >= target_total:\n",
    "            break\n",
    "    if generated >= target_total:\n",
    "        break"
   ]
  },
  {
   "cell_type": "markdown",
   "id": "b7aaaa48",
   "metadata": {},
   "source": [
    "### Gabungkan dataset yang sudah augmented dengan direktori asli."
   ]
  },
  {
   "cell_type": "code",
   "execution_count": 10,
   "id": "065a6e0c",
   "metadata": {},
   "outputs": [
    {
     "name": "stdout",
     "output_type": "stream",
     "text": [
      "Sebanyak 7754 data ditemukan pada berkas ./data/chest_xray/train/NORMAL\n"
     ]
    }
   ],
   "source": [
    "for fname in os.listdir(aug_dir):\n",
    "    shutil.move(os.path.join(aug_dir, fname), os.path.join(normal_dir, fname))\n",
    "\n",
    "print(f\"Sebanyak {len(os.listdir(normal_dir))} data ditemukan pada berkas {normal_dir}\")"
   ]
  },
  {
   "cell_type": "code",
   "execution_count": 11,
   "id": "7a3c7754",
   "metadata": {},
   "outputs": [],
   "source": [
    "shutil.rmtree(aug_dir)"
   ]
  },
  {
   "cell_type": "markdown",
   "id": "cc330759",
   "metadata": {},
   "source": [
    "# Training"
   ]
  },
  {
   "cell_type": "markdown",
   "id": "195a9d23",
   "metadata": {},
   "source": [
    "## Build ImageDataGenerator"
   ]
  },
  {
   "cell_type": "code",
   "execution_count": 12,
   "id": "b56432de",
   "metadata": {},
   "outputs": [],
   "source": [
    "# Tanpa augmentasi biar ga over.\n",
    "train_datagen = ImageDataGenerator(\n",
    "    rescale= 1/.255,\n",
    "    validation_split=0.2\n",
    ")\n",
    "\n",
    "test_datagen = ImageDataGenerator(\n",
    "    rescale=1/.255,\n",
    ")"
   ]
  },
  {
   "cell_type": "markdown",
   "id": "af6663be",
   "metadata": {},
   "source": [
    "## Build Generator for training & Validation"
   ]
  },
  {
   "cell_type": "code",
   "execution_count": 13,
   "id": "d74ad774",
   "metadata": {},
   "outputs": [
    {
     "name": "stderr",
     "output_type": "stream",
     "text": [
      "Python(67611) MallocStackLogging: can't turn off malloc stack logging because it was not enabled.\n"
     ]
    },
    {
     "name": "stdout",
     "output_type": "stream",
     "text": [
      "Found 9311 images belonging to 2 classes.\n",
      "Found 2326 images belonging to 2 classes.\n",
      "Found 624 images belonging to 2 classes.\n"
     ]
    }
   ],
   "source": [
    "train_dir = './data/chest_xray/train'\n",
    "test_dir = './data/chest_xray/test'\n",
    "\n",
    "train_gen = train_datagen.flow_from_directory(\n",
    "    train_dir,\n",
    "    subset='training',\n",
    "    class_mode='binary',\n",
    "    target_size=[150,150],\n",
    "    batch_size=32,\n",
    "    shuffle=True\n",
    ")\n",
    "\n",
    "val_gen = train_datagen.flow_from_directory(\n",
    "    train_dir,\n",
    "    subset='validation',\n",
    "    target_size=[150,150],\n",
    "    batch_size=32,\n",
    "    class_mode='binary',\n",
    "    shuffle=True\n",
    ")\n",
    "\n",
    "test_gen = test_datagen.flow_from_directory(\n",
    "    test_dir,\n",
    "    target_size=[150,150],\n",
    "    batch_size=32,\n",
    "    class_mode='binary',\n",
    "    shuffle=False # because important to evaluate.\n",
    ")"
   ]
  },
  {
   "cell_type": "code",
   "execution_count": 14,
   "id": "4e5865eb",
   "metadata": {},
   "outputs": [
    {
     "data": {
      "text/plain": [
       "{'NORMAL': 0, 'PNEUMONIA': 1}"
      ]
     },
     "execution_count": 14,
     "metadata": {},
     "output_type": "execute_result"
    }
   ],
   "source": [
    "train_gen.class_indices"
   ]
  },
  {
   "cell_type": "markdown",
   "id": "bfbdafa5",
   "metadata": {},
   "source": [
    "## Membangun Arsitektur"
   ]
  },
  {
   "cell_type": "code",
   "execution_count": 15,
   "id": "1e0efb1b",
   "metadata": {},
   "outputs": [
    {
     "name": "stderr",
     "output_type": "stream",
     "text": [
      "/Users/dicoding/Dicoding/github/mlops/.venv/lib/python3.9/site-packages/keras/src/layers/convolutional/base_conv.py:107: UserWarning: Do not pass an `input_shape`/`input_dim` argument to a layer. When using Sequential models, prefer using an `Input(shape)` object as the first layer in the model instead.\n",
      "  super().__init__(activity_regularizer=activity_regularizer, **kwargs)\n"
     ]
    }
   ],
   "source": [
    "model = models.Sequential([\n",
    "    layers.Conv2D(32, (3,3), activation='relu', input_shape=[150,150,3]),\n",
    "    layers.MaxPooling2D(2,2),\n",
    "    layers.Conv2D(64, (3,3), activation='relu'),\n",
    "    layers.MaxPooling2D(2,2),\n",
    "    layers.Flatten(),\n",
    "    layers.Dense(128, activation='relu'),\n",
    "    layers.Dropout(0.5),\n",
    "    layers.Dense(1, activation='sigmoid')\n",
    "])\n",
    "model.compile(optimizer='adam', loss='binary_crossentropy', metrics=['accuracy'])"
   ]
  },
  {
   "cell_type": "code",
   "execution_count": 16,
   "id": "2d1fb8be",
   "metadata": {},
   "outputs": [],
   "source": [
    "# Callbacks functions\n",
    "\n",
    "class myCallBacks(tf.keras.callbacks.Callback):\n",
    "    def on_epoch_end(self, epoch, logs={}):\n",
    "        if (logs.get('loss') < 0.9):\n",
    "            self.model.stop_training = True"
   ]
  },
  {
   "cell_type": "code",
   "execution_count": 17,
   "id": "8fb89712",
   "metadata": {},
   "outputs": [
    {
     "name": "stderr",
     "output_type": "stream",
     "text": [
      "/Users/dicoding/Dicoding/github/mlops/.venv/lib/python3.9/site-packages/keras/src/trainers/data_adapters/py_dataset_adapter.py:121: UserWarning: Your `PyDataset` class should call `super().__init__(**kwargs)` in its constructor. `**kwargs` can include `workers`, `use_multiprocessing`, `max_queue_size`. Do not pass these arguments to `fit()`, as they will be ignored.\n",
      "  self._warn_if_super_not_called()\n"
     ]
    },
    {
     "name": "stdout",
     "output_type": "stream",
     "text": [
      "Epoch 1/20\n",
      "\u001b[1m291/291\u001b[0m \u001b[32m━━━━━━━━━━━━━━━━━━━━\u001b[0m\u001b[37m\u001b[0m \u001b[1m60s\u001b[0m 204ms/step - accuracy: 0.8910 - loss: 140.3783 - val_accuracy: 0.4377 - val_loss: 28.6565\n",
      "Epoch 2/20\n",
      "\u001b[1m291/291\u001b[0m \u001b[32m━━━━━━━━━━━━━━━━━━━━\u001b[0m\u001b[37m\u001b[0m \u001b[1m57s\u001b[0m 197ms/step - accuracy: 0.9919 - loss: 0.0450 - val_accuracy: 0.4381 - val_loss: 33.6663\n"
     ]
    }
   ],
   "source": [
    "CALLBACKS = myCallBacks()\n",
    "\n",
    "history = model.fit(\n",
    "    train_gen,\n",
    "    validation_data=val_gen,\n",
    "    epochs=20,\n",
    "    callbacks=[CALLBACKS]\n",
    ")"
   ]
  },
  {
   "cell_type": "markdown",
   "id": "131c3b01",
   "metadata": {},
   "source": [
    "# Evaluations"
   ]
  },
  {
   "cell_type": "markdown",
   "id": "f2aa3bb0",
   "metadata": {},
   "source": [
    "## Loss and Accuracy"
   ]
  },
  {
   "cell_type": "code",
   "execution_count": 18,
   "id": "c9e2745d",
   "metadata": {},
   "outputs": [
    {
     "name": "stdout",
     "output_type": "stream",
     "text": [
      "\u001b[1m20/20\u001b[0m \u001b[32m━━━━━━━━━━━━━━━━━━━━\u001b[0m\u001b[37m\u001b[0m \u001b[1m4s\u001b[0m 201ms/step - accuracy: 0.3354 - loss: 40.4259\n",
      "Test accuracy:  0.6378\n"
     ]
    }
   ],
   "source": [
    "loss, acc = model.evaluate(test_gen)\n",
    "print(f\"Test accuracy: {acc: .4f}\")"
   ]
  },
  {
   "cell_type": "code",
   "execution_count": 19,
   "id": "b7a0e3b0",
   "metadata": {},
   "outputs": [
    {
     "data": {
      "image/png": "[encoded data removed]",
      "text/plain": [
       "<Figure size 640x480 with 1 Axes>"
      ]
     },
     "metadata": {},
     "output_type": "display_data"
    }
   ],
   "source": [
    "plt.plot(history.history['accuracy'], label='train_acc')\n",
    "plt.plot(history.history['val_accuracy'], label='val_acc')\n",
    "plt.legend()\n",
    "plt.title(\"Accuracy per epoch\")\n",
    "plt.show()"
   ]
  },
  {
   "cell_type": "markdown",
   "id": "4e08293d",
   "metadata": {},
   "source": [
    "## Predict"
   ]
  },
  {
   "cell_type": "markdown",
   "id": "6159b37a",
   "metadata": {},
   "source": [
    "Classification Report"
   ]
  },
  {
   "cell_type": "code",
   "execution_count": 20,
   "id": "952d21e8",
   "metadata": {},
   "outputs": [
    {
     "name": "stdout",
     "output_type": "stream",
     "text": [
      "\u001b[1m20/20\u001b[0m \u001b[32m━━━━━━━━━━━━━━━━━━━━\u001b[0m\u001b[37m\u001b[0m \u001b[1m3s\u001b[0m 153ms/step\n"
     ]
    }
   ],
   "source": [
    "y_true = test_gen.classes\n",
    "y_prob = model.predict(test_gen)\n",
    "y_pred = (y_prob > 0.5).astype(int).reshape(-1)"
   ]
  },
  {
   "cell_type": "code",
   "execution_count": 23,
   "id": "67942411",
   "metadata": {},
   "outputs": [
    {
     "name": "stdout",
     "output_type": "stream",
     "text": [
      "              precision    recall  f1-score   support\n",
      "\n",
      "      NORMAL       0.83      0.04      0.08       234\n",
      "   PNEUMONIA       0.63      0.99      0.77       390\n",
      "\n",
      "    accuracy                           0.64       624\n",
      "   macro avg       0.73      0.52      0.43       624\n",
      "weighted avg       0.71      0.64      0.51       624\n",
      "\n"
     ]
    }
   ],
   "source": [
    "from sklearn.metrics import classification_report\n",
    "\n",
    "print(classification_report(y_true, y_pred, target_names=test_gen.class_indices.keys()))"
   ]
  },
  {
   "cell_type": "code",
   "execution_count": 43,
   "id": "e19ef803",
   "metadata": {},
   "outputs": [
    {
     "data": {
      "text/plain": [
       "{'NORMAL_precision': 0.8333333333333334,\n",
       " 'NORMAL_recall': 0.042735042735042736,\n",
       " 'NORMAL_f1': 0.08130081300813008,\n",
       " 'PNEUMONIA_precision': 0.6339869281045751,\n",
       " 'PNEUOMONIA_recall': 0.9948717948717949,\n",
       " 'PNEUMONIA_f1': 0.7744510978043913,\n",
       " 'predict_acc': 0.6378205128205128}"
      ]
     },
     "execution_count": 43,
     "metadata": {},
     "output_type": "execute_result"
    }
   ],
   "source": [
    "report = classification_report(y_true, y_pred, target_names=test_gen.class_indices.keys(), output_dict=True)\n",
    "\n",
    "NORMAL_class = report['NORMAL']\n",
    "PNEUMONIA_class = report['PNEUMONIA']\n",
    "prediction_accuracy = report['accuracy']\n",
    "\n",
    "\n",
    "dict_new = {\n",
    "        \"NORMAL_precision\": NORMAL_class['precision'],\n",
    "        \"NORMAL_recall\": NORMAL_class['recall'],\n",
    "        \"NORMAL_f1\": NORMAL_class['f1-score'] ,\n",
    "        \"PNEUMONIA_precision\": PNEUMONIA_class['precision'],\n",
    "        \"PNEUOMONIA_recall\":PNEUMONIA_class['recall'],\n",
    "        \"PNEUMONIA_f1\": PNEUMONIA_class['f1-score'],\n",
    "        \"predict_acc\": prediction_accuracy\n",
    "    }\n",
    "\n",
    "dict_new"
   ]
  },
  {
   "cell_type": "markdown",
   "id": "6aa2ca70",
   "metadata": {},
   "source": [
    "Confusion Matrix"
   ]
  },
  {
   "cell_type": "code",
   "execution_count": 24,
   "id": "f6e5402b",
   "metadata": {},
   "outputs": [
    {
     "data": {
      "text/plain": [
       "<function matplotlib.pyplot.show(close=None, block=None)>"
      ]
     },
     "execution_count": 24,
     "metadata": {},
     "output_type": "execute_result"
    },
    {
     "data": {
      "image/png": "[encoded data removed]",
      "text/plain": [
       "<Figure size 640x480 with 2 Axes>"
      ]
     },
     "metadata": {},
     "output_type": "display_data"
    }
   ],
   "source": [
    "from sklearn.metrics import confusion_matrix\n",
    "import seaborn as sns\n",
    "\n",
    "\n",
    "cm = confusion_matrix(y_true, y_pred)\n",
    "sns.heatmap(cm, annot=True, fmt='d', xticklabels=test_gen.class_indices.keys(), yticklabels=test_gen.class_indices.keys(), cmap='Blues')\n",
    "\n",
    "plt.title(\"Confussion Matrix\")\n",
    "plt.xlabel(\"Predicted\")\n",
    "plt.ylabel(\"Actual\")\n",
    "plt.show"
   ]
  },
  {
   "cell_type": "code",
   "execution_count": 40,
   "id": "9f17ff99",
   "metadata": {},
   "outputs": [
    {
     "data": {
      "text/plain": [
       "np.int64(2)"
      ]
     },
     "execution_count": 40,
     "metadata": {},
     "output_type": "execute_result"
    }
   ],
   "source": [
    "TN,FP,FN,TP = cm.ravel()"
   ]
  },
  {
   "cell_type": "code",
   "execution_count": 48,
   "id": "70891d39",
   "metadata": {},
   "outputs": [
    {
     "name": "stdout",
     "output_type": "stream",
     "text": [
      "[0.         0.91794872 0.92051282 0.92051282 0.92307692 0.92307692\n",
      " 0.92564103 0.92564103 0.92820513 0.92820513 0.93076923 0.93076923\n",
      " 0.94102564 0.94102564 0.94615385 0.94615385 0.95128205 0.95128205\n",
      " 0.95384615 0.95384615 0.95897436 0.95897436 0.96666667 0.96666667\n",
      " 0.97435897 0.97435897 0.97948718 0.97948718 0.98461538 0.98461538\n",
      " 0.98717949 0.98717949 0.99230769 0.99230769 0.99487179 0.99487179\n",
      " 0.9974359  0.9974359  1.         1.        ]\n"
     ]
    }
   ],
   "source": [
    "from sklearn.metrics import roc_auc_score, roc_curve\n",
    "\n",
    "fpr, tpr, _ = roc_curve(y_true, y_prob)\n",
    "auc = roc_auc_score(y_true, y_prob)\n",
    "\n",
    "print(tpr)"
   ]
  },
  {
   "cell_type": "code",
   "execution_count": 50,
   "id": "a65cb5a0",
   "metadata": {},
   "outputs": [
    {
     "data": {
      "image/png": "[encoded data removed]",
      "text/plain": [
       "<Figure size 640x480 with 1 Axes>"
      ]
     },
     "metadata": {},
     "output_type": "display_data"
    }
   ],
   "source": [
    "import matplotlib.pyplot as plt\n",
    "from sklearn.metrics import roc_curve, roc_auc_score\n",
    "\n",
    "fpr, tpr, _ = roc_curve(y_true, y_prob)\n",
    "auc = roc_auc_score(y_true, y_prob)\n",
    "\n",
    "plt.figure()\n",
    "plt.plot(fpr, tpr, label=f'ROC curve (AUC = {auc:.2f})')\n",
    "plt.plot([0, 1], [0, 1], 'k--')\n",
    "plt.xlabel('False Positive Rate')\n",
    "plt.ylabel('True Positive Rate')\n",
    "plt.title('Receiver Operating Characteristic')\n",
    "plt.legend(loc='lower right')\n",
    "plt.grid()\n",
    "\n",
    "plt.savefig(\"roc_curve.png\")\n"
   ]
  },
  {
   "cell_type": "markdown",
   "id": "9040e298",
   "metadata": {},
   "source": [
    "# Export Model to SavedModel"
   ]
  },
  {
   "cell_type": "code",
   "execution_count": 21,
   "id": "096a1de8",
   "metadata": {},
   "outputs": [
    {
     "name": "stderr",
     "output_type": "stream",
     "text": [
      "Python(67747) MallocStackLogging: can't turn off malloc stack logging because it was not enabled.\n"
     ]
    },
    {
     "name": "stdout",
     "output_type": "stream",
     "text": [
      "INFO:tensorflow:Assets written to: ./models/assets\n"
     ]
    },
    {
     "name": "stderr",
     "output_type": "stream",
     "text": [
      "INFO:tensorflow:Assets written to: ./models/assets\n"
     ]
    },
    {
     "name": "stdout",
     "output_type": "stream",
     "text": [
      "Saved artifact at './models'. The following endpoints are available:\n",
      "\n",
      "* Endpoint 'serve'\n",
      "  args_0 (POSITIONAL_ONLY): TensorSpec(shape=(None, 150, 150, 3), dtype=tf.float32, name='keras_tensor')\n",
      "Output Type:\n",
      "  TensorSpec(shape=(None, 1), dtype=tf.float32, name=None)\n",
      "Captures:\n",
      "  6271729328: TensorSpec(shape=(), dtype=tf.resource, name=None)\n",
      "  6271623936: TensorSpec(shape=(), dtype=tf.resource, name=None)\n",
      "  6270657280: TensorSpec(shape=(), dtype=tf.resource, name=None)\n",
      "  6270657104: TensorSpec(shape=(), dtype=tf.resource, name=None)\n",
      "  6270659216: TensorSpec(shape=(), dtype=tf.resource, name=None)\n",
      "  6270659040: TensorSpec(shape=(), dtype=tf.resource, name=None)\n",
      "  6270677408: TensorSpec(shape=(), dtype=tf.resource, name=None)\n",
      "  6270677232: TensorSpec(shape=(), dtype=tf.resource, name=None)\n"
     ]
    }
   ],
   "source": [
    "!mkdir -p ./models/\n",
    "model.export(\"./models\")"
   ]
  }
 ],
 "metadata": {
  "kernelspec": {
   "display_name": ".venv",
   "language": "python",
   "name": "python3"
  },
  "language_info": {
   "codemirror_mode": {
    "name": "ipython",
    "version": 3
   },
   "file_extension": ".py",
   "mimetype": "text/x-python",
   "name": "python",
   "nbconvert_exporter": "python",
   "pygments_lexer": "ipython3",
   "version": "3.9.6"
  }
 },
 "nbformat": 4,
 "nbformat_minor": 5
}
